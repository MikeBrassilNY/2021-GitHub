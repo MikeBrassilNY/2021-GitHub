{
 "cells": [
  {
   "cell_type": "code",
   "execution_count": 1,
   "id": "3b8170b8",
   "metadata": {
    "_cell_guid": "b1076dfc-b9ad-4769-8c92-a6c4dae69d19",
    "_uuid": "8f2839f25d086af736a60e9eeb907d3b93b6e0e5",
    "execution": {
     "iopub.execute_input": "2022-01-11T14:31:57.267720Z",
     "iopub.status.busy": "2022-01-11T14:31:57.266793Z",
     "iopub.status.idle": "2022-01-11T14:31:57.270844Z",
     "shell.execute_reply": "2022-01-11T14:31:57.271429Z",
     "shell.execute_reply.started": "2022-01-11T14:30:30.221953Z"
    },
    "papermill": {
     "duration": 0.017187,
     "end_time": "2022-01-11T14:31:57.271708",
     "exception": false,
     "start_time": "2022-01-11T14:31:57.254521",
     "status": "completed"
    },
    "tags": []
   },
   "outputs": [],
   "source": [
    "# This Python 3 environment comes with many helpful analytics libraries installed\n",
    "# It is defined by the kaggle/python Docker image: https://github.com/kaggle/docker-python\n",
    "# For example, here's several helpful packages to load\n",
    "\n",
    "import numpy as np # linear algebra\n",
    "import pandas as pd # data processing, CSV file I/O (e.g. pd.read_csv)\n",
    "\n",
    "# Input data files are available in the read-only \"../input/\" directory\n",
    "# For example, running this (by clicking run or pressing Shift+Enter) will list all files under the input directory\n",
    "\n",
    "import os\n",
    "for dirname, _, filenames in os.walk('/kaggle/input'):\n",
    "    for filename in filenames:\n",
    "        print(os.path.join(dirname, filename))\n",
    "        \n",
    "        \n",
    "\n",
    "# You can write up to 20GB to the current directory (/kaggle/working/) that gets preserved as output when you create a version using \"Save & Run All\" \n",
    "# You can also write temporary files to /kaggle/temp/, but they won't be saved outside of the current session"
   ]
  },
  {
   "cell_type": "code",
   "execution_count": null,
   "id": "759146d7",
   "metadata": {
    "papermill": {
     "duration": 0.002511,
     "end_time": "2022-01-11T14:31:57.278226",
     "exception": false,
     "start_time": "2022-01-11T14:31:57.275715",
     "status": "completed"
    },
    "tags": []
   },
   "outputs": [],
   "source": []
  },
  {
   "cell_type": "markdown",
   "id": "419c4628",
   "metadata": {
    "papermill": {
     "duration": 0.002336,
     "end_time": "2022-01-11T14:31:57.283080",
     "exception": false,
     "start_time": "2022-01-11T14:31:57.280744",
     "status": "completed"
    },
    "tags": []
   },
   "source": []
  }
 ],
 "metadata": {
  "kernelspec": {
   "display_name": "Python 3",
   "language": "python",
   "name": "python3"
  },
  "language_info": {
   "codemirror_mode": {
    "name": "ipython",
    "version": 3
   },
   "file_extension": ".py",
   "mimetype": "text/x-python",
   "name": "python",
   "nbconvert_exporter": "python",
   "pygments_lexer": "ipython3",
   "version": "3.7.12"
  },
  "papermill": {
   "default_parameters": {},
   "duration": 8.968299,
   "end_time": "2022-01-11T14:31:57.895730",
   "environment_variables": {},
   "exception": null,
   "input_path": "__notebook__.ipynb",
   "output_path": "__notebook__.ipynb",
   "parameters": {},
   "start_time": "2022-01-11T14:31:48.927431",
   "version": "2.3.3"
  }
 },
 "nbformat": 4,
 "nbformat_minor": 5
}
